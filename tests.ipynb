{
 "cells": [
  {
   "cell_type": "code",
   "execution_count": 4,
   "metadata": {},
   "outputs": [
    {
     "data": {
      "text/plain": [
       "一      jat1\n",
       "丁     ding1\n",
       "丂     haau2\n",
       "七      cat1\n",
       "丄    soeng6\n",
       "丅      haa6\n",
       "丆     daan1\n",
       "万     maan6\n",
       "丈    zoeng6\n",
       "三     saam1\n",
       "上    soeng6\n",
       "下      haa6\n",
       "丌      gei1\n",
       "不      bat1\n",
       "与      jyu5\n",
       "丏      min5\n",
       "丐      koi3\n",
       "丑      cau2\n",
       "丒       ng5\n",
       "专     zyun1\n",
       "且       ce2\n",
       "丕      pei1\n",
       "世      sai3\n",
       "丗      sai3\n",
       "丘      jau1\n",
       "丙     bing2\n",
       "业      jip6\n",
       "丛     cung4\n",
       "东     dung1\n",
       "丝       si1\n",
       "丞     sing4\n",
       "丟      diu1\n",
       "丠      kei3\n",
       "両    loeng2\n",
       "丢      diu1\n",
       "丣      jau5\n",
       "两    loeng5\n",
       "严      jim4\n",
       "並     bing6\n",
       "丧     song1\n",
       "丨     gwan2\n",
       "丩      gau2\n",
       "个       go3\n",
       "丫       aa1\n",
       "丬     baan6\n",
       "中     zung1\n",
       "丮      gik1\n",
       "丯     gaai3\n",
       "丰     fung1\n",
       "丱    gwaan3\n",
       "Name: kCantonese, dtype: object"
      ]
     },
     "execution_count": 4,
     "metadata": {},
     "output_type": "execute_result"
    }
   ],
   "source": [
    "import pandas as pd\n",
    "\n",
    "pd.read_parquet('df.parquet')['kCantonese'][:50]"
   ]
  }
 ],
 "metadata": {
  "kernelspec": {
   "display_name": "venv",
   "language": "python",
   "name": "python3"
  },
  "language_info": {
   "codemirror_mode": {
    "name": "ipython",
    "version": 3
   },
   "file_extension": ".py",
   "mimetype": "text/x-python",
   "name": "python",
   "nbconvert_exporter": "python",
   "pygments_lexer": "ipython3",
   "version": "3.12.0"
  }
 },
 "nbformat": 4,
 "nbformat_minor": 2
}
