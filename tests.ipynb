{
 "cells": [
  {
   "cell_type": "code",
   "execution_count": 28,
   "metadata": {},
   "outputs": [
    {
     "name": "stdout",
     "output_type": "stream",
     "text": [
      "<class 'pandas.core.frame.DataFrame'>\n",
      "Index: 27584 entries, 一 to 䶿\n",
      "Data columns (total 44 columns):\n",
      " #   Column                       Non-Null Count  Dtype \n",
      "---  ------                       --------------  ----- \n",
      " 0   jd_strokes                   27584 non-null  int32 \n",
      " 1   jd_grade                     27584 non-null  int32 \n",
      " 2   jd_freq                      27584 non-null  int32 \n",
      " 3   jd_jlpt                      27584 non-null  int32 \n",
      " 4   jd_jap_on                    27584 non-null  object\n",
      " 5   jd_jap_kun                   27584 non-null  object\n",
      " 6   jd_pinyin                    27584 non-null  object\n",
      " 7   jd_kor_r                     27584 non-null  object\n",
      " 8   jd_kor_h                     27584 non-null  object\n",
      " 9   jd_viet                      27584 non-null  object\n",
      " 10  jd_nanoris                   27584 non-null  object\n",
      " 11  jd_romaji_on                 27584 non-null  object\n",
      " 12  jd_romaji_kun                27584 non-null  object\n",
      " 13  kCantonese                   25390 non-null  object\n",
      " 14  kGradeLevel                  2632 non-null   object\n",
      " 15  kKorean                      8762 non-null   object\n",
      " 16  kTraditionalVariant          2779 non-null   object\n",
      " 17  kCheungBauer                 506 non-null    object\n",
      " 18  kHDZRadBreak                 200 non-null    object\n",
      " 19  kMandarin                    26676 non-null  object\n",
      " 20  kVietnamese                  4063 non-null   object\n",
      " 21  kHKGlyph                     4823 non-null   object\n",
      " 22  kOtherNumeric                23 non-null     object\n",
      " 23  kXHC1983                     10685 non-null  object\n",
      " 24  kHangul                      8195 non-null   object\n",
      " 25  kPhonetic                    15850 non-null  object\n",
      " 26  kRSUnicode                   27584 non-null  object\n",
      " 27  kZVariant                    120 non-null    object\n",
      " 28  kDefinition                  20606 non-null  object\n",
      " 29  kHanyuPinlu                  3799 non-null   object\n",
      " 30  kPrimaryNumeric              20 non-null     object\n",
      " 31  kSemanticVariant             3245 non-null   object\n",
      " 32  kFenn                        5023 non-null   object\n",
      " 33  kHanyuPinyin                 20023 non-null  object\n",
      " 34  kSimplifiedVariant           5587 non-null   object\n",
      " 35  kSpecializedSemanticVariant  507 non-null    object\n",
      " 36  kAccountingNumeric           25 non-null     object\n",
      " 37  kFourCornerCode              16720 non-null  object\n",
      " 38  kJapaneseKun                 11253 non-null  object\n",
      " 39  kTang                        3799 non-null   object\n",
      " 40  kCangjie                     27525 non-null  object\n",
      " 41  kFrequency                   5089 non-null   object\n",
      " 42  kJapaneseOn                  13134 non-null  object\n",
      " 43  kTotalStrokes                27584 non-null  object\n",
      "dtypes: int32(4), object(40)\n",
      "memory usage: 9.0+ MB\n"
     ]
    }
   ],
   "source": [
    "import pandas as pd\n",
    "\n",
    "df = pd.read_parquet('df.parquet')\n",
    "df.info()"
   ]
  },
  {
   "cell_type": "code",
   "execution_count": 38,
   "metadata": {},
   "outputs": [
    {
     "data": {
      "text/plain": [
       "'to.ru'"
      ]
     },
     "execution_count": 38,
     "metadata": {},
     "output_type": "execute_result"
    }
   ],
   "source": [
    "df['jd_romaji_kun']\n",
    "\n",
    "\n",
    "'to.ru'.translate(exclude)"
   ]
  },
  {
   "cell_type": "code",
   "execution_count": 40,
   "metadata": {},
   "outputs": [
    {
     "data": {
      "text/plain": [
       "100"
      ]
     },
     "execution_count": 40,
     "metadata": {},
     "output_type": "execute_result"
    }
   ],
   "source": [
    "ord('d')"
   ]
  },
  {
   "cell_type": "code",
   "execution_count": 52,
   "metadata": {},
   "outputs": [
    {
     "data": {
      "text/plain": [
       "'取録捕採執撮摂采攝丮侔墍寽抍抾捋捎捔揓揜揷搏搴摣摻撏撨擥攈攏攓攟攬秉緶詵釆鍩'"
      ]
     },
     "execution_count": 52,
     "metadata": {},
     "output_type": "execute_result"
    }
   ],
   "source": [
    "exclude = {ord(x): None for x in '..,-/ ,'}\n",
    "results_kun = df[df['jd_romaji_kun'].apply(lambda x: 'toru' in [s.translate(exclude) for s in x])]\n",
    "results_on = df[df['jd_romaji_on'].apply(lambda x: 'toru' in [s.translate(exclude) for s in x])]\n",
    "\n",
    "chars_to_return = ''.join(list(pd.concat([results_kun, results_on]).sort_values(['jd_freq', 'jd_grade']).index))\n",
    "chars_to_return"
   ]
  }
 ],
 "metadata": {
  "kernelspec": {
   "display_name": "venv",
   "language": "python",
   "name": "python3"
  },
  "language_info": {
   "codemirror_mode": {
    "name": "ipython",
    "version": 3
   },
   "file_extension": ".py",
   "mimetype": "text/x-python",
   "name": "python",
   "nbconvert_exporter": "python",
   "pygments_lexer": "ipython3",
   "version": "3.12.0"
  }
 },
 "nbformat": 4,
 "nbformat_minor": 2
}
